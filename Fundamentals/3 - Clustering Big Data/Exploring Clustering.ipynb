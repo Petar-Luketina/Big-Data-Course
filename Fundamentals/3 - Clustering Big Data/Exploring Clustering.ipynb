{
 "cells": [
  {
   "cell_type": "code",
   "execution_count": 12,
   "metadata": {},
   "outputs": [],
   "source": [
    "%matplotlib inline\n",
    "import matplotlib.pyplot as plt\n",
    "import numpy as np"
   ]
  },
  {
   "cell_type": "code",
   "execution_count": 93,
   "metadata": {},
   "outputs": [
    {
     "data": {
      "image/png": "[encoded data removed]",
      "text/plain": [
       "<Figure size 432x288 with 1 Axes>"
      ]
     },
     "metadata": {
      "needs_background": "light"
     },
     "output_type": "display_data"
    }
   ],
   "source": [
    "pts = [0,1,3,7,10,14,16,24,30]\n",
    "plt.plot(points_1d, np.zeros(len(pts)), '.');"
   ]
  },
  {
   "cell_type": "code",
   "execution_count": 113,
   "metadata": {},
   "outputs": [],
   "source": [
    "def find_closest_pair(pts):\n",
    "  pts.sort()\n",
    "  difs = []\n",
    "  for i, pt in enumerate(pts):\n",
    "    if i == 0:\n",
    "      difs.append((pt, pts[1], (pts[1]+pt)/2))\n",
    "    elif i == len(pts) - 1:\n",
    "      difs.append((pts[-2], pt, (pt+pts[-2])/2))\n",
    "    else:\n",
    "      left = pts[i-1]\n",
    "      right = pts[i+1]\n",
    "      left_dif = left - pt\n",
    "      right_dif = pt - right\n",
    "      if right_dif > left_dif:\n",
    "        difs.append((pt, right, (right+pt)/2))\n",
    "      else:\n",
    "        difs.append((left, pt, (pt+left)/2))\n",
    "  return difs"
   ]
  },
  {
   "cell_type": "code",
   "execution_count": 127,
   "metadata": {},
   "outputs": [],
   "source": [
    "def find_closest_pair_edgeless(pts):\n",
    "  pts.sort()\n",
    "  difs = []\n",
    "  for i, pt in enumerate(pts):\n",
    "    if i != 0 and i != len(pts) - 1:\n",
    "      left = pts[i-1]\n",
    "      right = pts[i+1]\n",
    "      left_dif = left - pt\n",
    "      right_dif = pt - right\n",
    "      if right_dif > left_dif:\n",
    "        difs.append((pt, right, (right+pt)/2))\n",
    "      else:\n",
    "        difs.append((left, pt, (pt+left)/2))\n",
    "  return difs"
   ]
  },
  {
   "cell_type": "code",
   "execution_count": 138,
   "metadata": {},
   "outputs": [
    {
     "name": "stdout",
     "output_type": "stream",
     "text": [
      "{0.5, 2.0, 8.5, 15.0, 27.0}\n"
     ]
    },
    {
     "data": {
      "image/png": "[encoded data removed]",
      "text/plain": [
       "<Figure size 432x288 with 1 Axes>"
      ]
     },
     "metadata": {
      "needs_background": "light"
     },
     "output_type": "display_data"
    }
   ],
   "source": [
    "difs = find_closest_pair(pts)\n",
    "centroids = set((centroid[-1] for centroid in difs))\n",
    "\n",
    "for p1, p2, _ in difs:\n",
    "  plt.plot((p1, p2), (0,0), 'r-')\n",
    "plt.plot(points_1d, np.zeros(len(pts)), '.')\n",
    "\n",
    "print(centroids)"
   ]
  },
  {
   "cell_type": "code",
   "execution_count": 142,
   "metadata": {},
   "outputs": [
    {
     "name": "stdout",
     "output_type": "stream",
     "text": [
      "[1.25, 11.75, 5.25]\n"
     ]
    },
    {
     "data": {
      "image/png": "[encoded data removed]",
      "text/plain": [
       "<Figure size 432x288 with 1 Axes>"
      ]
     },
     "metadata": {
      "needs_background": "light"
     },
     "output_type": "display_data"
    }
   ],
   "source": [
    "difs = find_closest_pair(pts)\n",
    "centroids = list(set((centroid[-1] for centroid in difs)))\n",
    "\n",
    "for p1, p2, cent in difs:\n",
    "  plt.plot((p1, p2), (0,0), 'r-')\n",
    "  plt.plot(cent, .05, 'g.')\n",
    "plt.plot(points_1d, np.zeros(len(pts)), '.')\n",
    "  \n",
    "difs_r2 = find_closest_pair_edgeless(centroids)\n",
    "for p1, p2, cent in difs_r2:\n",
    "  plt.plot((p1, p2), (.1,.1), 'b-')\n",
    "  plt.plot(cent, .15, 'k.')\n",
    "  \n",
    "centroids_r2 = list(set((centroid[-1] for centroid in difs_r2)))\n",
    "print(centroids_r2)"
   ]
  },
  {
   "cell_type": "code",
   "execution_count": null,
   "metadata": {},
   "outputs": [],
   "source": []
  }
 ],
 "metadata": {
  "kernelspec": {
   "display_name": "Python 3",
   "language": "python",
   "name": "python3"
  },
  "language_info": {
   "codemirror_mode": {
    "name": "ipython",
    "version": 3
   },
   "file_extension": ".py",
   "mimetype": "text/x-python",
   "name": "python",
   "nbconvert_exporter": "python",
   "pygments_lexer": "ipython3",
   "version": "3.7.3"
  }
 },
 "nbformat": 4,
 "nbformat_minor": 2
}
